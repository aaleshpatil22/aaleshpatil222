{
 "cells": [
  {
   "cell_type": "code",
   "execution_count": 1,
   "id": "3ea14226",
   "metadata": {},
   "outputs": [
    {
     "name": "stdout",
     "output_type": "stream",
     "text": [
      "Requirement already satisfied: yfinance in c:\\users\\r\\anaconda3\\lib\\site-packages (0.2.12)\n",
      "Requirement already satisfied: multitasking>=0.0.7 in c:\\users\\r\\anaconda3\\lib\\site-packages (from yfinance) (0.0.11)\n",
      "Requirement already satisfied: html5lib>=1.1 in c:\\users\\r\\anaconda3\\lib\\site-packages (from yfinance) (1.1)\n",
      "Requirement already satisfied: frozendict>=2.3.4 in c:\\users\\r\\anaconda3\\lib\\site-packages (from yfinance) (2.3.5)\n",
      "Requirement already satisfied: numpy>=1.16.5 in c:\\users\\r\\anaconda3\\lib\\site-packages (from yfinance) (1.21.5)\n",
      "Requirement already satisfied: cryptography>=3.3.2 in c:\\users\\r\\anaconda3\\lib\\site-packages (from yfinance) (37.0.1)\n",
      "Requirement already satisfied: pytz>=2022.5 in c:\\users\\r\\anaconda3\\lib\\site-packages (from yfinance) (2022.7.1)\n",
      "Requirement already satisfied: beautifulsoup4>=4.11.1 in c:\\users\\r\\anaconda3\\lib\\site-packages (from yfinance) (4.11.1)\n",
      "Requirement already satisfied: appdirs>=1.4.4 in c:\\users\\r\\anaconda3\\lib\\site-packages (from yfinance) (1.4.4)\n",
      "Requirement already satisfied: requests>=2.26 in c:\\users\\r\\anaconda3\\lib\\site-packages (from yfinance) (2.28.1)\n",
      "Requirement already satisfied: pandas>=1.3.0 in c:\\users\\r\\anaconda3\\lib\\site-packages (from yfinance) (1.4.4)\n",
      "Requirement already satisfied: lxml>=4.9.1 in c:\\users\\r\\anaconda3\\lib\\site-packages (from yfinance) (4.9.1)\n",
      "Requirement already satisfied: soupsieve>1.2 in c:\\users\\r\\anaconda3\\lib\\site-packages (from beautifulsoup4>=4.11.1->yfinance) (2.3.1)\n",
      "Requirement already satisfied: cffi>=1.12 in c:\\users\\r\\anaconda3\\lib\\site-packages (from cryptography>=3.3.2->yfinance) (1.15.1)\n",
      "Requirement already satisfied: six>=1.9 in c:\\users\\r\\anaconda3\\lib\\site-packages (from html5lib>=1.1->yfinance) (1.16.0)\n",
      "Requirement already satisfied: webencodings in c:\\users\\r\\anaconda3\\lib\\site-packages (from html5lib>=1.1->yfinance) (0.5.1)\n",
      "Requirement already satisfied: python-dateutil>=2.8.1 in c:\\users\\r\\anaconda3\\lib\\site-packages (from pandas>=1.3.0->yfinance) (2.8.2)\n",
      "Requirement already satisfied: idna<4,>=2.5 in c:\\users\\r\\anaconda3\\lib\\site-packages (from requests>=2.26->yfinance) (3.3)\n",
      "Requirement already satisfied: certifi>=2017.4.17 in c:\\users\\r\\anaconda3\\lib\\site-packages (from requests>=2.26->yfinance) (2022.12.7)\n",
      "Requirement already satisfied: urllib3<1.27,>=1.21.1 in c:\\users\\r\\anaconda3\\lib\\site-packages (from requests>=2.26->yfinance) (1.26.11)\n",
      "Requirement already satisfied: charset-normalizer<3,>=2 in c:\\users\\r\\anaconda3\\lib\\site-packages (from requests>=2.26->yfinance) (2.0.4)\n",
      "Requirement already satisfied: pycparser in c:\\users\\r\\anaconda3\\lib\\site-packages (from cffi>=1.12->cryptography>=3.3.2->yfinance) (2.21)\n",
      "Note: you may need to restart the kernel to use updated packages.\n"
     ]
    }
   ],
   "source": [
    "pip install yfinance"
   ]
  },
  {
   "cell_type": "code",
   "execution_count": null,
   "id": "fd5e316c",
   "metadata": {},
   "outputs": [],
   "source": []
  },
  {
   "cell_type": "code",
   "execution_count": 35,
   "id": "9439b22e",
   "metadata": {},
   "outputs": [
    {
     "name": "stdout",
     "output_type": "stream",
     "text": [
      "[*********************100%***********************]  1 of 1 completed\n",
      "[*********************100%***********************]  1 of 1 completed\n",
      "[*********************100%***********************]  1 of 1 completed\n",
      "[*********************100%***********************]  1 of 1 completed\n",
      "[*********************100%***********************]  1 of 1 completed\n",
      "[*********************100%***********************]  1 of 1 completed\n",
      "[*********************100%***********************]  1 of 1 completed\n",
      "[*********************100%***********************]  1 of 1 completed\n",
      "[*********************100%***********************]  1 of 1 completed\n"
     ]
    }
   ],
   "source": [
    "import yfinance as yf\n",
    "import pandas as pd\n",
    "from datetime import datetime,timedelta\n",
    "today = (datetime.now()+timedelta(1)).strftime('%Y-%m-%d')\n",
    "\n",
    "tickers = ['BHARTIARTL.NS', 'BHEL.NS', 'HCLTECH.NS', 'INFY.NS', 'RELIANCE.NS', 'SUNPHARMA.NS', 'TATAMOTORS.NS','TCS.NS','TECHM.NS']\n",
    "\n",
    "\n",
    "for i in range(len(tickers)):\n",
    "    start_date = \"2018-01-01\"\n",
    "    end_date = today\n",
    "    data = yf.download(tickers[i], start=start_date, end=end_date)\n",
    "    data.insert(loc =6, column = 'Name', value = tickers[i][:-3])\n",
    "    data.to_csv(f'C:/Stock_Project/Stock-Prices-Prediction-ML-Flask/individual_stocks_5yr_2/{tickers[i][:-3]}_data.csv',index=True)"
   ]
  },
  {
   "cell_type": "code",
   "execution_count": 6,
   "id": "41ba3327",
   "metadata": {},
   "outputs": [],
   "source": [
    "df1=pd.read_csv('C:/Users/R/Desktop/Stock-Prices-Prediction-ML-Flask-master/Stock-Prices-Prediction-ML-Flask-master/individual_stocks_5yr/TCS_data.csv')"
   ]
  },
  {
   "cell_type": "code",
   "execution_count": 7,
   "id": "83b55ce5",
   "metadata": {},
   "outputs": [
    {
     "data": {
      "text/html": [
       "<div>\n",
       "<style scoped>\n",
       "    .dataframe tbody tr th:only-of-type {\n",
       "        vertical-align: middle;\n",
       "    }\n",
       "\n",
       "    .dataframe tbody tr th {\n",
       "        vertical-align: top;\n",
       "    }\n",
       "\n",
       "    .dataframe thead th {\n",
       "        text-align: right;\n",
       "    }\n",
       "</style>\n",
       "<table border=\"1\" class=\"dataframe\">\n",
       "  <thead>\n",
       "    <tr style=\"text-align: right;\">\n",
       "      <th></th>\n",
       "      <th>Date</th>\n",
       "      <th>Open</th>\n",
       "      <th>title</th>\n",
       "      <th>High</th>\n",
       "      <th>Low</th>\n",
       "      <th>Close</th>\n",
       "      <th>Adj Close</th>\n",
       "      <th>Volume</th>\n",
       "    </tr>\n",
       "  </thead>\n",
       "  <tbody>\n",
       "    <tr>\n",
       "      <th>0</th>\n",
       "      <td>2018-01-01</td>\n",
       "      <td>1341.150024</td>\n",
       "      <td>TCS.NS</td>\n",
       "      <td>1347.400024</td>\n",
       "      <td>1317.500000</td>\n",
       "      <td>1322.800049</td>\n",
       "      <td>1184.243408</td>\n",
       "      <td>1351760</td>\n",
       "    </tr>\n",
       "    <tr>\n",
       "      <th>1</th>\n",
       "      <td>2018-01-02</td>\n",
       "      <td>1330.000000</td>\n",
       "      <td>TCS.NS</td>\n",
       "      <td>1334.800049</td>\n",
       "      <td>1310.099976</td>\n",
       "      <td>1315.599976</td>\n",
       "      <td>1177.797852</td>\n",
       "      <td>1920290</td>\n",
       "    </tr>\n",
       "    <tr>\n",
       "      <th>2</th>\n",
       "      <td>2018-01-03</td>\n",
       "      <td>1316.000000</td>\n",
       "      <td>TCS.NS</td>\n",
       "      <td>1334.500000</td>\n",
       "      <td>1315.599976</td>\n",
       "      <td>1319.324951</td>\n",
       "      <td>1181.132690</td>\n",
       "      <td>1257120</td>\n",
       "    </tr>\n",
       "    <tr>\n",
       "      <th>3</th>\n",
       "      <td>2018-01-04</td>\n",
       "      <td>1325.000000</td>\n",
       "      <td>TCS.NS</td>\n",
       "      <td>1331.000000</td>\n",
       "      <td>1320.000000</td>\n",
       "      <td>1328.550049</td>\n",
       "      <td>1189.391479</td>\n",
       "      <td>913082</td>\n",
       "    </tr>\n",
       "    <tr>\n",
       "      <th>4</th>\n",
       "      <td>2018-01-05</td>\n",
       "      <td>1325.000000</td>\n",
       "      <td>TCS.NS</td>\n",
       "      <td>1349.750000</td>\n",
       "      <td>1325.000000</td>\n",
       "      <td>1344.599976</td>\n",
       "      <td>1203.760254</td>\n",
       "      <td>1153706</td>\n",
       "    </tr>\n",
       "  </tbody>\n",
       "</table>\n",
       "</div>"
      ],
      "text/plain": [
       "         Date         Open   title         High          Low        Close  \\\n",
       "0  2018-01-01  1341.150024  TCS.NS  1347.400024  1317.500000  1322.800049   \n",
       "1  2018-01-02  1330.000000  TCS.NS  1334.800049  1310.099976  1315.599976   \n",
       "2  2018-01-03  1316.000000  TCS.NS  1334.500000  1315.599976  1319.324951   \n",
       "3  2018-01-04  1325.000000  TCS.NS  1331.000000  1320.000000  1328.550049   \n",
       "4  2018-01-05  1325.000000  TCS.NS  1349.750000  1325.000000  1344.599976   \n",
       "\n",
       "     Adj Close   Volume  \n",
       "0  1184.243408  1351760  \n",
       "1  1177.797852  1920290  \n",
       "2  1181.132690  1257120  \n",
       "3  1189.391479   913082  \n",
       "4  1203.760254  1153706  "
      ]
     },
     "execution_count": 7,
     "metadata": {},
     "output_type": "execute_result"
    }
   ],
   "source": [
    "df1.head()"
   ]
  },
  {
   "cell_type": "code",
   "execution_count": 31,
   "id": "9b2b47c1",
   "metadata": {},
   "outputs": [],
   "source": [
    "import pymongo\n",
    " \n",
    "client = pymongo.MongoClient(\"mongodb://localhost:27017/\")\n",
    " \n",
    "# Database Name\n",
    "db = client[\"Stocks\"]\n",
    "\n",
    "# Collection Name\n",
    "col = db[\"Stock\"]"
   ]
  },
  {
   "cell_type": "code",
   "execution_count": 32,
   "id": "663ddd9d",
   "metadata": {},
   "outputs": [
    {
     "name": "stdout",
     "output_type": "stream",
     "text": [
      "[{'_id': ObjectId('6405d71951b0527162d2053f'), 'Date': '2013-11-01', 'Stock': 'TCS', 'Open': '35.0', 'High': '37.0', 'Low': '32.099998474121094', 'Close': '36.20000076293945', 'Adj Close': '33.83913040161133'}, {'_id': ObjectId('6405d71951b0527162d20540'), 'Date': '2013-11-04', 'Stock': 'TCS', 'Open': '36.79999923706055', 'High': '36.79999923706055', 'Low': '34.689998626708984', 'Close': '35.349998474121094', 'Adj Close': '33.04456329345703'}]\n"
     ]
    }
   ],
   "source": [
    "x = col.find().limit(2)\n",
    "\n",
    "y = list(x)\n",
    "    \n",
    "print(y)    "
   ]
  },
  {
   "cell_type": "code",
   "execution_count": 27,
   "id": "c80718e6",
   "metadata": {},
   "outputs": [
    {
     "data": {
      "text/plain": [
       "'10-03-2023'"
      ]
     },
     "execution_count": 27,
     "metadata": {},
     "output_type": "execute_result"
    }
   ],
   "source": [
    "from datetime import datetime\n",
    "today = datetime.now().strftime('%Y-%m-%Y')\n",
    "today"
   ]
  },
  {
   "cell_type": "code",
   "execution_count": null,
   "id": "56924c1c",
   "metadata": {},
   "outputs": [],
   "source": []
  },
  {
   "cell_type": "code",
   "execution_count": null,
   "id": "2409ed80",
   "metadata": {},
   "outputs": [],
   "source": []
  }
 ],
 "metadata": {
  "kernelspec": {
   "display_name": "Python 3 (ipykernel)",
   "language": "python",
   "name": "python3"
  },
  "language_info": {
   "codemirror_mode": {
    "name": "ipython",
    "version": 3
   },
   "file_extension": ".py",
   "mimetype": "text/x-python",
   "name": "python",
   "nbconvert_exporter": "python",
   "pygments_lexer": "ipython3",
   "version": "3.9.13"
  }
 },
 "nbformat": 4,
 "nbformat_minor": 5
}
