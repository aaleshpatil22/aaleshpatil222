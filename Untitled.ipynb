{
 "cells": [
  {
   "cell_type": "code",
   "execution_count": 1,
   "id": "2d2b59f5",
   "metadata": {},
   "outputs": [],
   "source": [
    "from sklearn.svm import SVR\n",
    "from sklearn.linear_model import LinearRegression\n",
    "from sklearn.ensemble import RandomForestRegressor\n",
    "from sklearn.neighbors import KNeighborsRegressor\n",
    "from sklearn import tree\n",
    "from sklearn import linear_model\n",
    "from sklearn.neural_network import MLPRegressor\n",
    "from sklearn.metrics import mean_squared_error\n",
    "from keras.models import Sequential\n",
    "from sklearn.model_selection import train_test_split\n",
    "from keras.layers import Dense\n",
    "from keras.layers import LSTM\n",
    "from sklearn.preprocessing import MinMaxScaler\n",
    "from sklearn.metrics import mean_squared_error,r2_score\n",
    "import numpy\n",
    "import pandas as pd\n",
    "import math\n",
    "from sklearn.linear_model import ElasticNet\n",
    "import os"
   ]
  },
  {
   "cell_type": "code",
   "execution_count": 4,
   "id": "4e881a09",
   "metadata": {},
   "outputs": [],
   "source": [
    "data = pd.read_csv('C:/Stock_Project/Stock-Prices-Prediction-ML-Flask/individual_stocks_5yr_2/TCS_data.csv')"
   ]
  },
  {
   "cell_type": "code",
   "execution_count": 13,
   "id": "88d76a80",
   "metadata": {},
   "outputs": [
    {
     "name": "stderr",
     "output_type": "stream",
     "text": [
      "C:\\Users\\Aalesh\\AppData\\Local\\Temp\\ipykernel_23128\\2826990044.py:1: FutureWarning: In a future version of pandas all arguments of DataFrame.drop except for the argument 'labels' will be keyword-only.\n",
      "  data.drop(data.columns.difference(['Date', 'Open']), 1, inplace=True)\n"
     ]
    }
   ],
   "source": [
    "data.drop(data.columns.difference(['Date', 'Open']), 1, inplace=True)"
   ]
  },
  {
   "cell_type": "code",
   "execution_count": 15,
   "id": "da46df1e",
   "metadata": {},
   "outputs": [],
   "source": [
    "data = data['Open']\n",
    "dataset = data.values\n",
    "dataset = dataset.reshape(-1, 1)\n",
    "dataset = dataset.astype('float32')"
   ]
  },
  {
   "cell_type": "code",
   "execution_count": 18,
   "id": "5ddfa3d5",
   "metadata": {},
   "outputs": [],
   "source": [
    "def create_dataset(dataset, look_back=1):\n",
    "    dataX, dataY = [], []\n",
    "    for i in range(len(dataset) - look_back):\n",
    "        a = dataset[i:(i + look_back), 0]\n",
    "        dataX.append(a)\n",
    "        dataY.append(dataset[i + look_back, 0])\n",
    "    return numpy.array(dataX), numpy.array(dataY)"
   ]
  },
  {
   "cell_type": "code",
   "execution_count": 20,
   "id": "00974652",
   "metadata": {},
   "outputs": [
    {
     "name": "stdout",
     "output_type": "stream",
     "text": [
      "[[1341.15]\n",
      " [1330.  ]\n",
      " [1316.  ]\n",
      " ...\n",
      " [3361.  ]\n",
      " [3354.  ]\n",
      " [3361.9 ]]\n"
     ]
    }
   ],
   "source": [
    "train_size = len(dataset) - 2\n",
    "train, test = dataset[0:train_size, :], dataset[train_size:len(dataset), :]\n",
    "\n",
    "look_back = 1\n",
    "trainX, trainY = create_dataset(train, look_back)\n",
    "testX, testY = create_dataset(test, look_back)\n",
    "\n",
    "print(trainX, trainY, testX, testY)"
   ]
  },
  {
   "cell_type": "code",
   "execution_count": 24,
   "id": "9fa8a536",
   "metadata": {},
   "outputs": [],
   "source": [
    "def getData(df):\n",
    "    # Create the lists / X and Y data sets\n",
    "    dates = []\n",
    "    prices = []\n",
    "\n",
    "    # Get the number of rows and columns in the data set\n",
    "    # df.shape\n",
    "\n",
    "    # Get the last row of data (this will be the data that we test on)\n",
    "    last_row = df.tail(1)\n",
    "\n",
    "    # Get all of the data except for the last row\n",
    "    df = df.head(len(df) - 1)\n",
    "    # df\n",
    "\n",
    "    # The new shape of the data\n",
    "    # df.shape\n",
    "\n",
    "    # Get all of the rows from the Date Column\n",
    "    df_dates = df.loc[:, 'Date']\n",
    "    # Get all of the rows from the Open Column\n",
    "    df_open = df.loc[:, 'Open']\n",
    "\n",
    "    # Create the independent data set X\n",
    "    for date in df_dates:\n",
    "        dates.append([int(date.split('-')[2])])\n",
    "\n",
    "    # Create the dependent data se 'y'\n",
    "    for open_price in df_open:\n",
    "        prices.append(float(open_price))\n",
    "\n",
    "    # See what days were recorded\n",
    "    last_date = int(((list(last_row['Date']))[0]).split('-')[2])\n",
    "    last_price = float((list(last_row['Open']))[0])\n",
    "    return dates, prices, last_date, last_price"
   ]
  },
  {
   "cell_type": "code",
   "execution_count": 25,
   "id": "ad7ee571",
   "metadata": {},
   "outputs": [],
   "source": [
    "def SVR_linear(dates, prices, test_date, df):\n",
    "    svr_lin = SVR(kernel='linear', C=1e3)\n",
    "    trainX, trainY, testX, testY = create_preprocessed_Dataset(df)\n",
    "    X_train, X_test, y_train, y_test = train_test_split(trainX, trainY, test_size = 0.33, random_state = 42)\n",
    "    svr_lin.fit(X_train, y_train)\n",
    "    decision_boundary = svr_lin.predict(trainX)\n",
    "    y_pred = svr_lin.predict(X_test)\n",
    "    test_score = mean_squared_error(y_test, y_pred)\n",
    "    prediction = svr_lin.predict(testX)[0]\n",
    "\n",
    "    return (decision_boundary, prediction, test_score)\n"
   ]
  },
  {
   "cell_type": "code",
   "execution_count": 28,
   "id": "981a0dea",
   "metadata": {},
   "outputs": [
    {
     "ename": "AttributeError",
     "evalue": "'numpy.ndarray' object has no attribute 'tail'",
     "output_type": "error",
     "traceback": [
      "\u001b[1;31m---------------------------------------------------------------------------\u001b[0m",
      "\u001b[1;31mAttributeError\u001b[0m                            Traceback (most recent call last)",
      "\u001b[1;32m~\\AppData\\Local\\Temp\\ipykernel_23128\\2536088760.py\u001b[0m in \u001b[0;36m<module>\u001b[1;34m\u001b[0m\n\u001b[1;32m----> 1\u001b[1;33m \u001b[0mSVR_linear\u001b[0m\u001b[1;33m(\u001b[0m\u001b[0mgetData\u001b[0m\u001b[1;33m(\u001b[0m\u001b[0mdataset\u001b[0m\u001b[1;33m)\u001b[0m\u001b[1;33m)\u001b[0m\u001b[1;33m\u001b[0m\u001b[1;33m\u001b[0m\u001b[0m\n\u001b[0m",
      "\u001b[1;32m~\\AppData\\Local\\Temp\\ipykernel_23128\\3180929694.py\u001b[0m in \u001b[0;36mgetData\u001b[1;34m(df)\u001b[0m\n\u001b[0;32m      8\u001b[0m \u001b[1;33m\u001b[0m\u001b[0m\n\u001b[0;32m      9\u001b[0m     \u001b[1;31m# Get the last row of data (this will be the data that we test on)\u001b[0m\u001b[1;33m\u001b[0m\u001b[1;33m\u001b[0m\u001b[0m\n\u001b[1;32m---> 10\u001b[1;33m     \u001b[0mlast_row\u001b[0m \u001b[1;33m=\u001b[0m \u001b[0mdf\u001b[0m\u001b[1;33m.\u001b[0m\u001b[0mtail\u001b[0m\u001b[1;33m(\u001b[0m\u001b[1;36m1\u001b[0m\u001b[1;33m)\u001b[0m\u001b[1;33m\u001b[0m\u001b[1;33m\u001b[0m\u001b[0m\n\u001b[0m\u001b[0;32m     11\u001b[0m \u001b[1;33m\u001b[0m\u001b[0m\n\u001b[0;32m     12\u001b[0m     \u001b[1;31m# Get all of the data except for the last row\u001b[0m\u001b[1;33m\u001b[0m\u001b[1;33m\u001b[0m\u001b[0m\n",
      "\u001b[1;31mAttributeError\u001b[0m: 'numpy.ndarray' object has no attribute 'tail'"
     ]
    }
   ],
   "source": [
    "SVR_linear(getData(dataset))"
   ]
  },
  {
   "cell_type": "code",
   "execution_count": null,
   "id": "bd7d5c89",
   "metadata": {},
   "outputs": [],
   "source": []
  }
 ],
 "metadata": {
  "kernelspec": {
   "display_name": "Python 3 (ipykernel)",
   "language": "python",
   "name": "python3"
  },
  "language_info": {
   "codemirror_mode": {
    "name": "ipython",
    "version": 3
   },
   "file_extension": ".py",
   "mimetype": "text/x-python",
   "name": "python",
   "nbconvert_exporter": "python",
   "pygments_lexer": "ipython3",
   "version": "3.9.13"
  }
 },
 "nbformat": 4,
 "nbformat_minor": 5
}
